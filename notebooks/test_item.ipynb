{
 "cells": [
  {
   "cell_type": "code",
   "execution_count": 1,
   "id": "7d826976",
   "metadata": {},
   "outputs": [],
   "source": [
    "from wakfu_items_api.parser_schema.items import ItemFileSchema\n",
    "import json"
   ]
  },
  {
   "cell_type": "code",
   "execution_count": null,
   "id": "77e599ad",
   "metadata": {},
   "outputs": [],
   "source": [
    "with open(\"../data/items_1.87.2.36.json\") as json_file:\n",
    "    file_content = json.load(json_file)\n",
    "    file_schema = ItemFileSchema.model_validate(file_content)"
   ]
  }
 ],
 "metadata": {
  "kernelspec": {
   "display_name": ".venv",
   "language": "python",
   "name": "python3"
  },
  "language_info": {
   "codemirror_mode": {
    "name": "ipython",
    "version": 3
   },
   "file_extension": ".py",
   "mimetype": "text/x-python",
   "name": "python",
   "nbconvert_exporter": "python",
   "pygments_lexer": "ipython3",
   "version": "3.13.3"
  }
 },
 "nbformat": 4,
 "nbformat_minor": 5
}
